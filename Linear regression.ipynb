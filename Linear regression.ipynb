{
 "cells": [
  {
   "cell_type": "code",
   "execution_count": 1,
   "id": "50254953",
   "metadata": {},
   "outputs": [],
   "source": [
    "import random\n",
    "import numpy as np\n",
    "import pandas as pd\n",
    "import matplotlib.pyplot as plt\n"
   ]
  },
  {
   "cell_type": "code",
   "execution_count": 2,
   "id": "c02cc645",
   "metadata": {},
   "outputs": [
    {
     "name": "stdout",
     "output_type": "stream",
     "text": [
      "[3, 4, 10, 2, 9, 3, 0, 6, 8, 5, 9, 10, 1, 3, 4, 10, 10, 9, 3, 3] [0, 1, 5, 1, 8, 8, 8, 2, 10, 0, 3, 8, 7, 2, 4, 4, 7, 1, 2, 2]\n"
     ]
    }
   ],
   "source": [
    "num_points = 20\n",
    "x_values = [random.randint(0, 10) for _ in range(num_points)]\n",
    "y_values = [random.randint(0, 10) for _ in range(num_points)]\n",
    "\n",
    "print(x_values, y_values)\n"
   ]
  },
  {
   "cell_type": "code",
   "execution_count": 16,
   "id": "885fbf6c",
   "metadata": {},
   "outputs": [],
   "source": [
    "X = np.array(x_values)\n",
    "y = np.array(y_values)\n",
    "\n",
    "# Creating Pandas DataFrame \n",
    "data = pd.DataFrame({'X': x_values, 'y': y_values})"
   ]
  },
  {
   "cell_type": "code",
   "execution_count": 17,
   "id": "17fa8647",
   "metadata": {},
   "outputs": [
    {
     "name": "stdout",
     "output_type": "stream",
     "text": [
      "0.2073608617594255 -1.1388746365657603\n"
     ]
    }
   ],
   "source": [
    "#Calculating m and c\n",
    "mean_x = data['X'].mean()\n",
    "mean_y = data['y'].mean()\n",
    "m = np.sum((data['X'] - mean_x) * (data['y'] - mean_y)) / np.sum((data['X'] - mean_x) ** 2)\n",
    "\n",
    "\n",
    "sum_x = np.sum(data['X'])\n",
    "sum_y = np.sum(data['y'])\n",
    "sum_x_squared = np.sum(data['X'] ** 2)\n",
    "sum_xy = np.sum(data['X'] * data['y'])\n",
    "c = (sum_y * sum_x_squared - sum_x * sum_xy) / (sum_x_squared - sum_x ** 2)\n",
    "\n",
    "print(m,c)"
   ]
  },
  {
   "cell_type": "code",
   "execution_count": 18,
   "id": "2c320eec",
   "metadata": {},
   "outputs": [
    {
     "name": "stdout",
     "output_type": "stream",
     "text": [
      "26.28602239042909\n"
     ]
    }
   ],
   "source": [
    "# predicted the values of y\n",
    "data['y_pred'] = m * data['X'] + c\n",
    "\n",
    "#calculating mean squared error MSE\n",
    "mse_training = np.mean((data['y'] - data['y_pred']) ** 2)\n",
    "print(mse_training)\n"
   ]
  },
  {
   "cell_type": "code",
   "execution_count": 22,
   "id": "454d8909",
   "metadata": {},
   "outputs": [
    {
     "name": "stdout",
     "output_type": "stream",
     "text": [
      "     X_test     y_test  y_pred_test\n",
      "0  1.108400   3.325200    -0.909036\n",
      "1  1.478541   4.435623    -0.832283\n",
      "2  9.872164  29.616492     0.908226\n",
      "3  7.186491  21.559474     0.351322\n",
      "4  7.417113  22.251340     0.399144\n",
      "5  6.740678  20.222033     0.258878\n",
      "6  9.657372  28.972117     0.863686\n",
      "7  9.594544  28.783633     0.850658\n",
      "8  5.651629  16.954886     0.033052\n",
      "9  9.173447  27.520342     0.763339\n"
     ]
    }
   ],
   "source": [
    "# generating test data\n",
    "num_test_points = 10\n",
    "X_test = np.array([random.uniform(0, 10) for _ in range(num_test_points)])\n",
    "y_test = 3 * X_test\n",
    "\n",
    "test_data = pd.DataFrame({'X_test': X_test, 'y_test': y_test})\n",
    "\n",
    "# Calculate the predicted y values for test data\n",
    "test_data['y_pred_test'] = m * test_data['X_test'] + c\n",
    "print(test_data)"
   ]
  },
  {
   "cell_type": "code",
   "execution_count": 23,
   "id": "27641a60",
   "metadata": {},
   "outputs": [
    {
     "name": "stdout",
     "output_type": "stream",
     "text": [
      "476.82964535588127\n"
     ]
    }
   ],
   "source": [
    "# MSE for test data\n",
    "mse_test = np.mean((test_data['y_test'] - test_data['y_pred_test']) ** 2)\n",
    "print(mse_test)"
   ]
  },
  {
   "cell_type": "code",
   "execution_count": 26,
   "id": "1d89580f",
   "metadata": {},
   "outputs": [
    {
     "data": {
      "image/png": "[encoded data removed]",
      "text/plain": [
       "<Figure size 640x480 with 1 Axes>"
      ]
     },
     "metadata": {},
     "output_type": "display_data"
    },
    {
     "name": "stdout",
     "output_type": "stream",
     "text": [
      "Training Data:\n",
      "     X   y    y_pred  y_pred_gradient_descent\n",
      "0    3   0 -0.516792                 2.641200\n",
      "1    4   1 -0.309431                 3.061988\n",
      "2   10   5  0.934734                 5.586719\n",
      "3    2   1 -0.724153                 2.220412\n",
      "4    9   8  0.727373                 5.165931\n",
      "5    3   8 -0.516792                 2.641200\n",
      "6    0   8 -1.138875                 1.378835\n",
      "7    6   2  0.105291                 3.903565\n",
      "8    8  10  0.520012                 4.745142\n",
      "9    5   0 -0.102070                 3.482777\n",
      "10   9   3  0.727373                 5.165931\n",
      "11  10   8  0.934734                 5.586719\n",
      "12   1   7 -0.931514                 1.799623\n",
      "13   3   2 -0.516792                 2.641200\n",
      "14   4   4 -0.309431                 3.061988\n",
      "15  10   4  0.934734                 5.586719\n",
      "16  10   7  0.934734                 5.586719\n",
      "17   9   1  0.727373                 5.165931\n",
      "18   3   2 -0.516792                 2.641200\n",
      "19   3   2 -0.516792                 2.641200\n",
      "\n",
      "Test Data:\n",
      "     X_test     y_test  y_pred_test\n",
      "0  1.108400   3.325200    -0.909036\n",
      "1  1.478541   4.435623    -0.832283\n",
      "2  9.872164  29.616492     0.908226\n",
      "3  7.186491  21.559474     0.351322\n",
      "4  7.417113  22.251340     0.399144\n",
      "5  6.740678  20.222033     0.258878\n",
      "6  9.657372  28.972117     0.863686\n",
      "7  9.594544  28.783633     0.850658\n",
      "8  5.651629  16.954886     0.033052\n",
      "9  9.173447  27.520342     0.763339\n",
      "\n",
      "Results:\n",
      "   MSE Training    MSE Test\n",
      "0     26.286022  476.829645\n"
     ]
    }
   ],
   "source": [
    "# plotting the regression line \n",
    "plt.scatter(data['X'], data['y'], label='Training Data')\n",
    "plt.scatter(test_data['X_test'], test_data['y_test'], color='red', label='Test Data')\n",
    "plt.plot(data['X'], data['y_pred'], color='blue', label='Regression Line')\n",
    "plt.xlabel('X')\n",
    "plt.ylabel('y')\n",
    "plt.legend()\n",
    "plt.show()\n",
    "\n",
    "# Display the training data, test data, and MSE results using Pandas DataFrames\n",
    "print(\"Training Data:\")\n",
    "print(data)\n",
    "\n",
    "print(\"\\nTest Data:\")\n",
    "print(test_data)\n",
    "\n",
    "results_df = pd.DataFrame({\n",
    "    'MSE Training': [mse_training],\n",
    "    'MSE Test': [mse_test]\n",
    "})\n",
    "\n",
    "print(\"\\nResults:\")\n",
    "print(results_df)"
   ]
  },
  {
   "cell_type": "code",
   "execution_count": 25,
   "id": "62d57b34",
   "metadata": {},
   "outputs": [
    {
     "data": {
      "image/png": "[encoded data removed]",
      "text/plain": [
       "<Figure size 640x480 with 1 Axes>"
      ]
     },
     "metadata": {},
     "output_type": "display_data"
    },
    {
     "name": "stdout",
     "output_type": "stream",
     "text": [
      "\n",
      "Results after Gradient Descent:\n",
      "   MSE Gradient Descent  Theta0 Gradient Descent  Theta1 Gradient Descent\n",
      "0              9.927956                 1.378835                 0.420788\n"
     ]
    }
   ],
   "source": [
    "theta0 = random.uniform(0, 1)\n",
    "theta1 = random.uniform(0, 1)\n",
    "learning_rate = 0.001\n",
    "num_iterations = 1000\n",
    "\n",
    "for _ in range(num_iterations):\n",
    "    y_pred_gradient = theta0 + theta1 * data['X']\n",
    "    gradient_theta0 = -2 * np.mean(data['y'] - y_pred_gradient)\n",
    "    gradient_theta1 = -2 * np.mean((data['y'] - y_pred_gradient) * data['X'])\n",
    "\n",
    "    theta0 -= learning_rate * gradient_theta0\n",
    "    theta1 -= learning_rate * gradient_theta1\n",
    "\n",
    "# Calculate the predicted y values using updated theta values\n",
    "data['y_pred_gradient_descent'] = theta0 + theta1 * data['X']\n",
    "\n",
    "# Calculate Mean Squared Error (MSE) for training data with Gradient Descent\n",
    "mse_gradient_descent = np.mean((data['y'] - data['y_pred_gradient_descent']) ** 2)\n",
    "\n",
    "# Visualize the regression line on data points after Gradient Descent\n",
    "plt.scatter(data['X'], data['y'], label='Training Data')\n",
    "plt.plot(data['X'], data['y_pred_gradient_descent'], color='green', label='Regression Line (Gradient Descent)')\n",
    "plt.xlabel('X')\n",
    "plt.ylabel('y')\n",
    "plt.legend()\n",
    "plt.show()\n",
    "\n",
    "# Display the results of Gradient Descent using Pandas DataFrame\n",
    "results_gradient_descent_df = pd.DataFrame({\n",
    "    'MSE Gradient Descent': [mse_gradient_descent],\n",
    "    'Theta0 Gradient Descent': [theta0],\n",
    "    'Theta1 Gradient Descent': [theta1]\n",
    "})\n",
    "\n",
    "print(\"\\nResults after Gradient Descent:\")\n",
    "print(results_gradient_descent_df)"
   ]
  },
  {
   "cell_type": "code",
   "execution_count": null,
   "id": "ae460a2d",
   "metadata": {},
   "outputs": [],
   "source": []
  }
 ],
 "metadata": {
  "kernelspec": {
   "display_name": "Python 3 (ipykernel)",
   "language": "python",
   "name": "python3"
  },
  "language_info": {
   "codemirror_mode": {
    "name": "ipython",
    "version": 3
   },
   "file_extension": ".py",
   "mimetype": "text/x-python",
   "name": "python",
   "nbconvert_exporter": "python",
   "pygments_lexer": "ipython3",
   "version": "3.10.9"
  }
 },
 "nbformat": 4,
 "nbformat_minor": 5
}
