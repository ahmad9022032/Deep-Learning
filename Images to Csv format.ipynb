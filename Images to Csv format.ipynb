{
 "cells": [
  {
   "cell_type": "code",
   "execution_count": 4,
   "metadata": {},
   "outputs": [
    {
     "name": "stdout",
     "output_type": "stream",
     "text": [
      "(157, 500, 500, 3)\n"
     ]
    }
   ],
   "source": [
    "import os\n",
    "from PIL import Image\n",
    "import numpy as np\n",
    "\n",
    "def ListofFiles(Dir):\n",
    "    Files = []\n",
    "    for root, dir_name, file_name in os.walk(Dir):\n",
    "        for name in file_name:\n",
    "            fullName = os.path.join(root, name)\n",
    "            Files.append(fullName)\n",
    "    return Files\n",
    "\n",
    "FileList = ListofFiles('Testing_images')\n",
    "\n",
    "pixels = []\n",
    "\n",
    "# Find the maximum dimensions of all images\n",
    "max_width = 0\n",
    "max_height = 0\n",
    "for file in FileList:\n",
    "    im = Image.open(file)\n",
    "    width, height = im.size\n",
    "    if width > max_width:\n",
    "        max_width = width\n",
    "    if height > max_height:\n",
    "        max_height = height\n",
    "\n",
    "# Resize images to the maximum dimensions\n",
    "for file in FileList:\n",
    "    im = Image.open(file)\n",
    "    im_resized = im.resize((max_width, max_height))\n",
    "    pixels.append(np.array(im_resized))\n",
    "\n",
    "pixels_arr = np.asarray(pixels)\n",
    "\n",
    "print(pixels_arr.shape)\n",
    "\n",
    "np.savetxt('tes1.csv', pixels_arr.reshape(pixels_arr.shape[0], -1), delimiter=',')\n"
   ]
  },
  {
   "cell_type": "code",
   "execution_count": null,
   "metadata": {},
   "outputs": [],
   "source": []
  }
 ],
 "metadata": {
  "kernelspec": {
   "display_name": "Python 3",
   "language": "python",
   "name": "python3"
  },
  "language_info": {
   "codemirror_mode": {
    "name": "ipython",
    "version": 3
   },
   "file_extension": ".py",
   "mimetype": "text/x-python",
   "name": "python",
   "nbconvert_exporter": "python",
   "pygments_lexer": "ipython3",
   "version": "3.11.0"
  }
 },
 "nbformat": 4,
 "nbformat_minor": 2
}
