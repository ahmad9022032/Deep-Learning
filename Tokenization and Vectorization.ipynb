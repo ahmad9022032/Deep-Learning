{
 "cells": [
  {
   "cell_type": "code",
   "execution_count": 2,
   "metadata": {},
   "outputs": [
    {
     "name": "stdout",
     "output_type": "stream",
     "text": [
      "WARNING:tensorflow:From C:\\Users\\DELL\\AppData\\Roaming\\Python\\Python311\\site-packages\\keras\\src\\losses.py:2976: The name tf.losses.sparse_softmax_cross_entropy is deprecated. Please use tf.compat.v1.losses.sparse_softmax_cross_entropy instead.\n",
      "\n"
     ]
    }
   ],
   "source": [
    "import numpy as np\n",
    "import pandas as pd\n",
    "import tensorflow as tf\n",
    "from tensorflow.keras.preprocessing.text import Tokenizer\n",
    "from tensorflow.keras.preprocessing.sequence import pad_sequences\n",
    "from sklearn.model_selection import train_test_split"
   ]
  },
  {
   "cell_type": "code",
   "execution_count": 3,
   "metadata": {},
   "outputs": [],
   "source": [
    "# Load the Twitter data\n",
    "data = pd.read_csv(\"Tweets.csv\")"
   ]
  },
  {
   "cell_type": "code",
   "execution_count": 4,
   "metadata": {},
   "outputs": [],
   "source": [
    "# Encode sentiment labels\n",
    "sentiment_mapping = {'positive': 2, 'neutral': 1, 'negative': 0}\n",
    "data['airline_sentiment'] = data['airline_sentiment'].map(sentiment_mapping)\n"
   ]
  },
  {
   "cell_type": "code",
   "execution_count": 5,
   "metadata": {},
   "outputs": [],
   "source": [
    "# Tokenization and Vectorization\n",
    "max_words = 10000  # Maximum number of words to keep based on frequency\n",
    "max_len = 100      # Maximum length of sequences\n",
    "\n",
    "tokenizer = Tokenizer(num_words=max_words)\n",
    "tokenizer.fit_on_texts(data['text'])\n",
    "sequences = tokenizer.texts_to_sequences(data['text'])\n",
    "padded_sequences = pad_sequences(sequences, maxlen=max_len)"
   ]
  },
  {
   "cell_type": "code",
   "execution_count": 6,
   "metadata": {},
   "outputs": [
    {
     "name": "stdout",
     "output_type": "stream",
     "text": [
      "Shape of X_train: (10540, 100)\n",
      "Shape of X_test: (2928, 100)\n",
      "Shape of y_train: (10540,)\n",
      "Shape of y_test: (2928,)\n"
     ]
    }
   ],
   "source": [
    "# Split the data into train, validation, and test sets\n",
    "X_train, X_test, y_train, y_test = train_test_split(padded_sequences, data['airline_sentiment'], test_size=0.2, random_state=42)\n",
    "X_train, X_val, y_train, y_val = train_test_split(X_train, y_train, test_size=0.1, random_state=42)\n",
    "\n",
    "# Display the shapes of the training and testing sets\n",
    "print(\"Shape of X_train:\", X_train.shape)\n",
    "print(\"Shape of X_test:\", X_test.shape)\n",
    "print(\"Shape of y_train:\", y_train.shape)\n",
    "print(\"Shape of y_test:\", y_test.shape)"
   ]
  },
  {
   "cell_type": "code",
   "execution_count": 7,
   "metadata": {},
   "outputs": [
    {
     "name": "stdout",
     "output_type": "stream",
     "text": [
      "WARNING:tensorflow:From C:\\Users\\DELL\\AppData\\Roaming\\Python\\Python311\\site-packages\\keras\\src\\backend.py:873: The name tf.get_default_graph is deprecated. Please use tf.compat.v1.get_default_graph instead.\n",
      "\n"
     ]
    }
   ],
   "source": [
    "# Model Definition\n",
    "model = tf.keras.Sequential([\n",
    "    tf.keras.layers.Embedding(max_words, 16, input_length=max_len),\n",
    "    tf.keras.layers.Flatten(),\n",
    "    tf.keras.layers.Dense(16, activation='relu'),\n",
    "    tf.keras.layers.Dense(16, activation='relu'),\n",
    "    tf.keras.layers.Dense(3, activation='softmax')  # Output layer with 3 classes\n",
    "])"
   ]
  },
  {
   "cell_type": "code",
   "execution_count": 8,
   "metadata": {},
   "outputs": [
    {
     "name": "stdout",
     "output_type": "stream",
     "text": [
      "WARNING:tensorflow:From C:\\Users\\DELL\\AppData\\Roaming\\Python\\Python311\\site-packages\\keras\\src\\optimizers\\__init__.py:309: The name tf.train.Optimizer is deprecated. Please use tf.compat.v1.train.Optimizer instead.\n",
      "\n"
     ]
    }
   ],
   "source": [
    "# Compile the model\n",
    "model.compile(optimizer='adam',\n",
    "              loss='sparse_categorical_crossentropy',\n",
    "              metrics=['accuracy'])\n"
   ]
  },
  {
   "cell_type": "code",
   "execution_count": 12,
   "metadata": {},
   "outputs": [
    {
     "name": "stdout",
     "output_type": "stream",
     "text": [
      "Epoch 1/100\n",
      "330/330 [==============================] - 2s 5ms/step - loss: 0.0357 - accuracy: 0.9915 - val_loss: 1.5347 - val_accuracy: 0.7235\n",
      "Epoch 2/100\n",
      "330/330 [==============================] - 1s 4ms/step - loss: 0.0324 - accuracy: 0.9926 - val_loss: 1.6260 - val_accuracy: 0.7278\n",
      "Epoch 3/100\n",
      "330/330 [==============================] - 1s 4ms/step - loss: 0.0302 - accuracy: 0.9928 - val_loss: 1.7103 - val_accuracy: 0.7363\n",
      "Epoch 4/100\n",
      "330/330 [==============================] - 1s 4ms/step - loss: 0.0283 - accuracy: 0.9933 - val_loss: 1.8177 - val_accuracy: 0.7363\n",
      "Epoch 5/100\n",
      "330/330 [==============================] - 2s 5ms/step - loss: 0.0291 - accuracy: 0.9930 - val_loss: 1.8780 - val_accuracy: 0.7295\n",
      "Epoch 6/100\n",
      "330/330 [==============================] - 1s 4ms/step - loss: 0.0266 - accuracy: 0.9934 - val_loss: 1.9083 - val_accuracy: 0.7295\n",
      "Epoch 7/100\n",
      "330/330 [==============================] - 1s 4ms/step - loss: 0.0249 - accuracy: 0.9938 - val_loss: 1.9532 - val_accuracy: 0.7321\n",
      "Epoch 8/100\n",
      "330/330 [==============================] - 1s 4ms/step - loss: 0.0227 - accuracy: 0.9940 - val_loss: 1.9149 - val_accuracy: 0.7278\n",
      "Epoch 9/100\n",
      "330/330 [==============================] - 1s 4ms/step - loss: 0.0233 - accuracy: 0.9944 - val_loss: 1.9470 - val_accuracy: 0.7270\n",
      "Epoch 10/100\n",
      "330/330 [==============================] - 2s 5ms/step - loss: 0.0216 - accuracy: 0.9944 - val_loss: 1.9944 - val_accuracy: 0.7312\n",
      "Epoch 11/100\n",
      "330/330 [==============================] - 2s 5ms/step - loss: 0.0199 - accuracy: 0.9949 - val_loss: 2.1176 - val_accuracy: 0.7295\n",
      "Epoch 12/100\n",
      "330/330 [==============================] - 1s 4ms/step - loss: 0.0179 - accuracy: 0.9952 - val_loss: 2.1292 - val_accuracy: 0.7218\n",
      "Epoch 13/100\n",
      "330/330 [==============================] - 1s 4ms/step - loss: 0.0175 - accuracy: 0.9956 - val_loss: 2.1604 - val_accuracy: 0.7389\n",
      "Epoch 14/100\n",
      "330/330 [==============================] - 1s 4ms/step - loss: 0.0185 - accuracy: 0.9953 - val_loss: 2.0972 - val_accuracy: 0.7184\n",
      "Epoch 15/100\n",
      "330/330 [==============================] - 2s 5ms/step - loss: 0.0151 - accuracy: 0.9959 - val_loss: 2.1007 - val_accuracy: 0.7210\n",
      "Epoch 16/100\n",
      "330/330 [==============================] - 1s 4ms/step - loss: 0.0168 - accuracy: 0.9956 - val_loss: 2.2996 - val_accuracy: 0.7389\n",
      "Epoch 17/100\n",
      "330/330 [==============================] - 1s 4ms/step - loss: 0.0161 - accuracy: 0.9955 - val_loss: 2.2344 - val_accuracy: 0.7278\n",
      "Epoch 18/100\n",
      "330/330 [==============================] - 2s 5ms/step - loss: 0.0169 - accuracy: 0.9955 - val_loss: 2.2447 - val_accuracy: 0.7235\n",
      "Epoch 19/100\n",
      "330/330 [==============================] - 1s 4ms/step - loss: 0.0161 - accuracy: 0.9958 - val_loss: 2.2602 - val_accuracy: 0.7082\n",
      "Epoch 20/100\n",
      "330/330 [==============================] - 2s 5ms/step - loss: 0.0160 - accuracy: 0.9954 - val_loss: 2.2425 - val_accuracy: 0.7253\n",
      "Epoch 21/100\n",
      "330/330 [==============================] - 1s 4ms/step - loss: 0.0158 - accuracy: 0.9956 - val_loss: 2.4228 - val_accuracy: 0.7167\n",
      "Epoch 22/100\n",
      "330/330 [==============================] - 2s 5ms/step - loss: 0.0133 - accuracy: 0.9959 - val_loss: 2.3576 - val_accuracy: 0.7108\n",
      "Epoch 23/100\n",
      "330/330 [==============================] - 1s 4ms/step - loss: 0.0138 - accuracy: 0.9958 - val_loss: 2.3890 - val_accuracy: 0.7210\n",
      "Epoch 24/100\n",
      "330/330 [==============================] - 2s 5ms/step - loss: 0.0125 - accuracy: 0.9962 - val_loss: 2.4608 - val_accuracy: 0.7108\n",
      "Epoch 25/100\n",
      "330/330 [==============================] - 1s 4ms/step - loss: 0.0123 - accuracy: 0.9960 - val_loss: 2.5567 - val_accuracy: 0.7304\n",
      "Epoch 26/100\n",
      "330/330 [==============================] - 1s 4ms/step - loss: 0.0127 - accuracy: 0.9962 - val_loss: 2.5443 - val_accuracy: 0.7184\n",
      "Epoch 27/100\n",
      "330/330 [==============================] - 1s 4ms/step - loss: 0.0118 - accuracy: 0.9963 - val_loss: 2.6232 - val_accuracy: 0.7039\n",
      "Epoch 28/100\n",
      "330/330 [==============================] - 1s 4ms/step - loss: 0.0122 - accuracy: 0.9963 - val_loss: 2.6341 - val_accuracy: 0.7159\n",
      "Epoch 29/100\n",
      "330/330 [==============================] - 2s 5ms/step - loss: 0.0131 - accuracy: 0.9965 - val_loss: 2.4492 - val_accuracy: 0.7090\n",
      "Epoch 30/100\n",
      "330/330 [==============================] - 2s 5ms/step - loss: 0.0118 - accuracy: 0.9962 - val_loss: 2.7119 - val_accuracy: 0.7201\n",
      "Epoch 31/100\n",
      "330/330 [==============================] - 1s 5ms/step - loss: 0.0120 - accuracy: 0.9965 - val_loss: 2.8002 - val_accuracy: 0.7210\n",
      "Epoch 32/100\n",
      "330/330 [==============================] - 1s 4ms/step - loss: 0.0112 - accuracy: 0.9963 - val_loss: 2.7194 - val_accuracy: 0.7073\n",
      "Epoch 33/100\n",
      "330/330 [==============================] - 1s 4ms/step - loss: 0.0115 - accuracy: 0.9964 - val_loss: 2.8157 - val_accuracy: 0.7201\n",
      "Epoch 34/100\n",
      "330/330 [==============================] - 1s 5ms/step - loss: 0.0114 - accuracy: 0.9966 - val_loss: 2.7118 - val_accuracy: 0.6980\n",
      "Epoch 35/100\n",
      "330/330 [==============================] - 2s 5ms/step - loss: 0.0114 - accuracy: 0.9963 - val_loss: 2.8044 - val_accuracy: 0.7073\n",
      "Epoch 36/100\n",
      "330/330 [==============================] - 2s 5ms/step - loss: 0.0100 - accuracy: 0.9969 - val_loss: 2.8480 - val_accuracy: 0.7014\n",
      "Epoch 37/100\n",
      "330/330 [==============================] - 1s 4ms/step - loss: 0.0102 - accuracy: 0.9965 - val_loss: 2.9313 - val_accuracy: 0.6937\n",
      "Epoch 38/100\n",
      "330/330 [==============================] - 2s 5ms/step - loss: 0.0104 - accuracy: 0.9966 - val_loss: 2.8562 - val_accuracy: 0.7116\n",
      "Epoch 39/100\n",
      "330/330 [==============================] - 1s 4ms/step - loss: 0.0116 - accuracy: 0.9958 - val_loss: 2.9853 - val_accuracy: 0.7073\n",
      "Epoch 40/100\n",
      "330/330 [==============================] - 2s 5ms/step - loss: 0.0100 - accuracy: 0.9964 - val_loss: 3.1385 - val_accuracy: 0.7005\n",
      "Epoch 41/100\n",
      "330/330 [==============================] - 1s 5ms/step - loss: 0.0100 - accuracy: 0.9966 - val_loss: 3.0113 - val_accuracy: 0.7048\n",
      "Epoch 42/100\n",
      "330/330 [==============================] - 1s 4ms/step - loss: 0.0098 - accuracy: 0.9964 - val_loss: 3.0644 - val_accuracy: 0.6945\n",
      "Epoch 43/100\n",
      "330/330 [==============================] - 2s 5ms/step - loss: 0.0092 - accuracy: 0.9967 - val_loss: 2.9765 - val_accuracy: 0.7184\n",
      "Epoch 44/100\n",
      "330/330 [==============================] - 1s 4ms/step - loss: 0.0096 - accuracy: 0.9968 - val_loss: 3.0456 - val_accuracy: 0.7048\n",
      "Epoch 45/100\n",
      "330/330 [==============================] - 2s 5ms/step - loss: 0.0095 - accuracy: 0.9968 - val_loss: 3.0936 - val_accuracy: 0.7073\n",
      "Epoch 46/100\n",
      "330/330 [==============================] - 2s 5ms/step - loss: 0.0098 - accuracy: 0.9964 - val_loss: 3.2218 - val_accuracy: 0.7022\n",
      "Epoch 47/100\n",
      "330/330 [==============================] - 1s 4ms/step - loss: 0.0094 - accuracy: 0.9963 - val_loss: 3.3206 - val_accuracy: 0.7048\n",
      "Epoch 48/100\n",
      "330/330 [==============================] - 1s 4ms/step - loss: 0.0099 - accuracy: 0.9968 - val_loss: 3.4337 - val_accuracy: 0.6843\n",
      "Epoch 49/100\n",
      "330/330 [==============================] - 1s 4ms/step - loss: 0.0093 - accuracy: 0.9967 - val_loss: 3.0864 - val_accuracy: 0.7056\n",
      "Epoch 50/100\n",
      "330/330 [==============================] - 1s 5ms/step - loss: 0.0081 - accuracy: 0.9972 - val_loss: 3.2926 - val_accuracy: 0.7014\n",
      "Epoch 51/100\n",
      "330/330 [==============================] - 1s 4ms/step - loss: 0.0091 - accuracy: 0.9969 - val_loss: 3.4579 - val_accuracy: 0.6920\n",
      "Epoch 52/100\n",
      "330/330 [==============================] - 2s 5ms/step - loss: 0.0088 - accuracy: 0.9972 - val_loss: 3.4136 - val_accuracy: 0.6809\n",
      "Epoch 53/100\n",
      "330/330 [==============================] - 1s 4ms/step - loss: 0.0095 - accuracy: 0.9966 - val_loss: 3.3962 - val_accuracy: 0.6903\n",
      "Epoch 54/100\n",
      "330/330 [==============================] - 1s 4ms/step - loss: 0.0090 - accuracy: 0.9968 - val_loss: 3.3474 - val_accuracy: 0.7039\n",
      "Epoch 55/100\n",
      "330/330 [==============================] - 2s 5ms/step - loss: 0.0088 - accuracy: 0.9966 - val_loss: 3.4426 - val_accuracy: 0.6988\n",
      "Epoch 56/100\n",
      "330/330 [==============================] - 1s 5ms/step - loss: 0.0091 - accuracy: 0.9968 - val_loss: 3.3266 - val_accuracy: 0.7082\n",
      "Epoch 57/100\n",
      "330/330 [==============================] - 1s 5ms/step - loss: 0.0084 - accuracy: 0.9968 - val_loss: 3.4365 - val_accuracy: 0.6980\n",
      "Epoch 58/100\n",
      "330/330 [==============================] - 2s 5ms/step - loss: 0.0083 - accuracy: 0.9968 - val_loss: 3.2899 - val_accuracy: 0.7014\n",
      "Epoch 59/100\n",
      "330/330 [==============================] - 2s 5ms/step - loss: 0.0088 - accuracy: 0.9970 - val_loss: 3.5555 - val_accuracy: 0.6613\n",
      "Epoch 60/100\n",
      "330/330 [==============================] - 2s 5ms/step - loss: 0.0097 - accuracy: 0.9967 - val_loss: 3.4032 - val_accuracy: 0.6672\n",
      "Epoch 61/100\n",
      "330/330 [==============================] - 2s 5ms/step - loss: 0.0079 - accuracy: 0.9971 - val_loss: 3.5512 - val_accuracy: 0.7022\n",
      "Epoch 62/100\n",
      "330/330 [==============================] - 1s 4ms/step - loss: 0.0079 - accuracy: 0.9971 - val_loss: 3.5351 - val_accuracy: 0.7065\n",
      "Epoch 63/100\n",
      "330/330 [==============================] - 2s 5ms/step - loss: 0.0074 - accuracy: 0.9967 - val_loss: 3.2836 - val_accuracy: 0.7133\n",
      "Epoch 64/100\n",
      "330/330 [==============================] - 1s 4ms/step - loss: 0.0085 - accuracy: 0.9968 - val_loss: 3.3731 - val_accuracy: 0.7125\n",
      "Epoch 65/100\n",
      "330/330 [==============================] - 1s 5ms/step - loss: 0.0086 - accuracy: 0.9969 - val_loss: 3.3118 - val_accuracy: 0.7125\n",
      "Epoch 66/100\n",
      "330/330 [==============================] - 1s 4ms/step - loss: 0.0081 - accuracy: 0.9966 - val_loss: 3.3563 - val_accuracy: 0.7065\n",
      "Epoch 67/100\n",
      "330/330 [==============================] - 1s 4ms/step - loss: 0.0081 - accuracy: 0.9969 - val_loss: 3.3262 - val_accuracy: 0.7184\n",
      "Epoch 68/100\n",
      "330/330 [==============================] - 1s 4ms/step - loss: 0.0078 - accuracy: 0.9968 - val_loss: 3.7357 - val_accuracy: 0.6988\n",
      "Epoch 69/100\n",
      "330/330 [==============================] - 1s 4ms/step - loss: 0.0080 - accuracy: 0.9971 - val_loss: 3.4758 - val_accuracy: 0.7065\n",
      "Epoch 70/100\n",
      "330/330 [==============================] - 1s 4ms/step - loss: 0.0074 - accuracy: 0.9970 - val_loss: 3.5726 - val_accuracy: 0.7014\n",
      "Epoch 71/100\n",
      "330/330 [==============================] - 1s 4ms/step - loss: 0.0078 - accuracy: 0.9969 - val_loss: 3.7149 - val_accuracy: 0.7073\n",
      "Epoch 72/100\n",
      "330/330 [==============================] - 1s 4ms/step - loss: 0.0082 - accuracy: 0.9967 - val_loss: 3.6330 - val_accuracy: 0.6980\n",
      "Epoch 73/100\n",
      "330/330 [==============================] - 2s 5ms/step - loss: 0.0083 - accuracy: 0.9971 - val_loss: 3.6900 - val_accuracy: 0.7014\n",
      "Epoch 74/100\n",
      "330/330 [==============================] - 2s 5ms/step - loss: 0.0077 - accuracy: 0.9971 - val_loss: 3.8021 - val_accuracy: 0.6971\n",
      "Epoch 75/100\n",
      "330/330 [==============================] - 1s 4ms/step - loss: 0.0079 - accuracy: 0.9964 - val_loss: 3.6682 - val_accuracy: 0.7014\n",
      "Epoch 76/100\n",
      "330/330 [==============================] - 1s 4ms/step - loss: 0.0075 - accuracy: 0.9972 - val_loss: 3.8280 - val_accuracy: 0.6928\n",
      "Epoch 77/100\n",
      "330/330 [==============================] - 1s 4ms/step - loss: 0.0074 - accuracy: 0.9972 - val_loss: 3.4801 - val_accuracy: 0.7082\n",
      "Epoch 78/100\n",
      "330/330 [==============================] - 2s 5ms/step - loss: 0.0073 - accuracy: 0.9971 - val_loss: 3.9138 - val_accuracy: 0.6980\n",
      "Epoch 79/100\n",
      "330/330 [==============================] - 1s 4ms/step - loss: 0.0074 - accuracy: 0.9968 - val_loss: 3.7441 - val_accuracy: 0.7082\n",
      "Epoch 80/100\n",
      "330/330 [==============================] - 1s 4ms/step - loss: 0.0071 - accuracy: 0.9972 - val_loss: 3.7266 - val_accuracy: 0.6886\n",
      "Epoch 81/100\n",
      "330/330 [==============================] - 1s 4ms/step - loss: 0.0072 - accuracy: 0.9970 - val_loss: 3.9092 - val_accuracy: 0.6962\n",
      "Epoch 82/100\n",
      "330/330 [==============================] - 1s 5ms/step - loss: 0.0073 - accuracy: 0.9971 - val_loss: 3.7323 - val_accuracy: 0.7090\n",
      "Epoch 83/100\n",
      "330/330 [==============================] - 1s 5ms/step - loss: 0.0071 - accuracy: 0.9965 - val_loss: 4.0507 - val_accuracy: 0.6903\n",
      "Epoch 84/100\n",
      "330/330 [==============================] - 1s 4ms/step - loss: 0.0074 - accuracy: 0.9970 - val_loss: 4.0387 - val_accuracy: 0.7099\n",
      "Epoch 85/100\n",
      "330/330 [==============================] - 1s 5ms/step - loss: 0.0072 - accuracy: 0.9969 - val_loss: 4.3029 - val_accuracy: 0.7048\n",
      "Epoch 86/100\n",
      "330/330 [==============================] - 1s 4ms/step - loss: 0.0075 - accuracy: 0.9971 - val_loss: 3.8987 - val_accuracy: 0.6988\n",
      "Epoch 87/100\n",
      "330/330 [==============================] - 1s 5ms/step - loss: 0.0069 - accuracy: 0.9972 - val_loss: 4.1993 - val_accuracy: 0.6962\n",
      "Epoch 88/100\n",
      "330/330 [==============================] - 1s 5ms/step - loss: 0.0066 - accuracy: 0.9970 - val_loss: 4.2068 - val_accuracy: 0.6971\n",
      "Epoch 89/100\n",
      "330/330 [==============================] - 2s 5ms/step - loss: 0.0068 - accuracy: 0.9969 - val_loss: 4.0564 - val_accuracy: 0.6792\n",
      "Epoch 90/100\n",
      "330/330 [==============================] - 1s 4ms/step - loss: 0.0091 - accuracy: 0.9966 - val_loss: 4.0496 - val_accuracy: 0.7022\n",
      "Epoch 91/100\n",
      "330/330 [==============================] - 2s 5ms/step - loss: 0.0070 - accuracy: 0.9971 - val_loss: 4.3830 - val_accuracy: 0.6988\n",
      "Epoch 92/100\n",
      "330/330 [==============================] - 1s 5ms/step - loss: 0.0067 - accuracy: 0.9974 - val_loss: 4.1412 - val_accuracy: 0.7048\n",
      "Epoch 93/100\n",
      "330/330 [==============================] - 2s 5ms/step - loss: 0.0068 - accuracy: 0.9970 - val_loss: 4.4024 - val_accuracy: 0.7014\n",
      "Epoch 94/100\n",
      "330/330 [==============================] - 1s 4ms/step - loss: 0.0068 - accuracy: 0.9970 - val_loss: 3.9467 - val_accuracy: 0.7159\n",
      "Epoch 95/100\n",
      "330/330 [==============================] - 1s 4ms/step - loss: 0.0068 - accuracy: 0.9972 - val_loss: 4.2616 - val_accuracy: 0.7065\n",
      "Epoch 96/100\n",
      "330/330 [==============================] - 1s 4ms/step - loss: 0.0067 - accuracy: 0.9973 - val_loss: 4.1538 - val_accuracy: 0.7116\n",
      "Epoch 97/100\n",
      "330/330 [==============================] - 1s 4ms/step - loss: 0.0066 - accuracy: 0.9968 - val_loss: 4.4707 - val_accuracy: 0.6997\n",
      "Epoch 98/100\n",
      "330/330 [==============================] - 1s 4ms/step - loss: 0.0070 - accuracy: 0.9972 - val_loss: 4.2919 - val_accuracy: 0.7022\n",
      "Epoch 99/100\n",
      "330/330 [==============================] - 1s 4ms/step - loss: 0.0069 - accuracy: 0.9967 - val_loss: 4.2823 - val_accuracy: 0.7065\n",
      "Epoch 100/100\n",
      "330/330 [==============================] - 1s 4ms/step - loss: 0.0066 - accuracy: 0.9972 - val_loss: 4.7648 - val_accuracy: 0.6809\n"
     ]
    }
   ],
   "source": [
    "# Model Training\n",
    "history = model.fit(X_train, y_train,\n",
    "                    epochs=100,\n",
    "                    batch_size=32,\n",
    "                    validation_data=(X_val, y_val))\n"
   ]
  },
  {
   "cell_type": "code",
   "execution_count": 13,
   "metadata": {},
   "outputs": [
    {
     "name": "stdout",
     "output_type": "stream",
     "text": [
      "92/92 [==============================] - 0s 3ms/step - loss: 4.7554 - accuracy: 0.6793\n",
      "Test Accuracy: 0.6793032884597778\n"
     ]
    }
   ],
   "source": [
    "# Model Evaluation\n",
    "test_loss, test_accuracy = model.evaluate(X_test, y_test)\n",
    "print(\"Test Accuracy:\", test_accuracy)\n"
   ]
  },
  {
   "cell_type": "code",
   "execution_count": 14,
   "metadata": {},
   "outputs": [
    {
     "data": {
      "image/png": "[encoded data removed]",
      "text/plain": [
       "<Figure size 640x480 with 1 Axes>"
      ]
     },
     "metadata": {},
     "output_type": "display_data"
    }
   ],
   "source": [
    "# Plot training history\n",
    "import matplotlib.pyplot as plt\n",
    "\n",
    "plt.plot(history.history['accuracy'], label='Training Accuracy')\n",
    "plt.plot(history.history['val_accuracy'], label='Validation Accuracy')\n",
    "plt.xlabel('Epochs')\n",
    "plt.ylabel('Accuracy')\n",
    "plt.legend()\n",
    "plt.show()"
   ]
  },
  {
   "cell_type": "code",
   "execution_count": null,
   "metadata": {},
   "outputs": [],
   "source": []
  }
 ],
 "metadata": {
  "kernelspec": {
   "display_name": "Python 3 (ipykernel)",
   "language": "python",
   "name": "python3"
  },
  "language_info": {
   "codemirror_mode": {
    "name": "ipython",
    "version": 3
   },
   "file_extension": ".py",
   "mimetype": "text/x-python",
   "name": "python",
   "nbconvert_exporter": "python",
   "pygments_lexer": "ipython3",
   "version": "3.10.9"
  }
 },
 "nbformat": 4,
 "nbformat_minor": 2
}
